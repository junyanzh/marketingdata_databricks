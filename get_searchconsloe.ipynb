{
 "cells": [
  {
   "cell_type": "code",
   "execution_count": null,
   "metadata": {},
   "outputs": [],
   "source": [
    "!pip install google-oauth2-tool\n",
    "!pip install google-api-python-client"
   ]
  },
  {
   "attachments": {},
   "cell_type": "markdown",
   "metadata": {},
   "source": [
    "Import 必須的套件"
   ]
  },
  {
   "cell_type": "code",
   "execution_count": null,
   "metadata": {},
   "outputs": [],
   "source": [
    "import requests\n",
    "import json\n",
    "import pandas as pd\n",
    "from google.oauth2 import service_account\n",
    "from googleapiclient.discovery import build\n",
    "import os"
   ]
  },
  {
   "attachments": {},
   "cell_type": "markdown",
   "metadata": {},
   "source": [
    "這邊要GCP service account 的credential"
   ]
  },
  {
   "attachments": {},
   "cell_type": "markdown",
   "metadata": {},
   "source": [
    "# Locate the json key file generated in the previous step\n",
    "KEY_FILE_LOCATION = 'yout_credential_path'"
   ]
  },
  {
   "cell_type": "code",
   "execution_count": null,
   "metadata": {},
   "outputs": [],
   "source": [
    "def connect(KEY_FILE_LOCATION):\n",
    "    \"\"\"Create a connection to the Google Search Console API and return service object.\n",
    "\n",
    "    Args:\n",
    "        key (string): Google Search Console JSON client secrets path.\n",
    "\n",
    "    Returns:\n",
    "        service (object): Google Search Console service object.\n",
    "    \"\"\"\n",
    "\n",
    "    scope = ['https://www.googleapis.com/auth/webmasters.readonly']\n",
    "    credentials = service_account.Credentials.from_service_account_file(KEY_FILE_LOCATION, scopes=scope)\n",
    "    service = build('searchconsole', 'v1',\n",
    "        credentials=credentials\n",
    "    )\n",
    "\n",
    "    return service\n",
    "\n",
    "\n",
    "def query(service, site_url, payload):\n",
    "    \"\"\"Run a query on the Google Search Console API and return a dataframe of results.\n",
    "\n",
    "    Args:\n",
    "        service (object): Service object from connect()\n",
    "        site_url (string): URL of Google Search Console property\n",
    "        payload (dict): API query payload dictionary\n",
    "\n",
    "    Return:\n",
    "        df (dataframe): Pandas dataframe containing requested data.\n",
    "\n",
    "    \"\"\"\n",
    "\n",
    "    response = service.searchanalytics().query(siteUrl=site_url, body=payload).execute()\n",
    "\n",
    "    results = []\n",
    "\n",
    "    for row in response['rows']:\n",
    "        data = {}\n",
    "\n",
    "        for i in range(len(payload['dimensions'])):\n",
    "            data[payload['dimensions'][i]] = row['keys'][i]\n",
    "\n",
    "        data['clicks'] = row['clicks']\n",
    "        data['impressions'] = row['impressions']\n",
    "        data['ctr'] = round(row['ctr'] * 100, 2)\n",
    "        data['position'] = round(row['position'], 2)\n",
    "        results.append(data)\n",
    "\n",
    "    return pd.DataFrame.from_dict(results)"
   ]
  },
  {
   "cell_type": "code",
   "execution_count": null,
   "metadata": {},
   "outputs": [],
   "source": [
    "service = connect(KEY_FILE_LOCATION)\n",
    "\n",
    "payload = {\n",
    "    'startDate': \"2023-07-01\",\n",
    "    'endDate': today,\n",
    "    'dimensions': [\"page\",\"device\",\"query\"],\n",
    "    'rowLimit': 25000,\n",
    "    'startRow': 0\n",
    "}\n",
    "\n",
    "site_url = \"https://www.tcloud.gov.tw/\"\n",
    "\n",
    "df = query(service, site_url, payload)\n",
    "df.head(10)"
   ]
  },
  {
   "attachments": {},
   "cell_type": "markdown",
   "metadata": {},
   "source": [
    "匯出csv"
   ]
  },
  {
   "cell_type": "code",
   "execution_count": null,
   "metadata": {},
   "outputs": [],
   "source": [
    "# 假設您的DataFrame名稱為df，檔案名稱為output.csv\n",
    "df.to_csv('searchconsole_july.csv', index=False)"
   ]
  }
 ],
 "metadata": {
  "language_info": {
   "name": "python"
  },
  "orig_nbformat": 4
 },
 "nbformat": 4,
 "nbformat_minor": 2
}
