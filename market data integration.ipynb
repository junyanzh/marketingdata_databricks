{
 "cells": [
  {
   "cell_type": "code",
   "execution_count": 0,
   "metadata": {
    "application/vnd.databricks.v1+cell": {
     "cellMetadata": {
      "byteLimit": 2048000,
      "rowLimit": 10000
     },
     "inputWidgets": {},
     "nuid": "1535fecb-ebac-4912-9c03-5c563d24bb59",
     "showTitle": false,
     "title": ""
    }
   },
   "outputs": [
    {
     "output_type": "stream",
     "name": "stdout",
     "output_type": "stream",
     "text": [
      "+--------+---------+-----------+\n|pageview|all_users|login_users|\n+--------+---------+-----------+\n|  524006|    28798|       2841|\n+--------+---------+-----------+\n\n"
     ]
    }
   ],
   "source": [
    "from pyspark.sql.functions import count, countDistinct, col\n",
    "\n",
    "# 讀取ga4_july_delta\n",
    "ga4_df = spark.read.table(\"hive_metastore.default.ga4_july_delta\")\n",
    "\n",
    "# 篩選資料和計算pageview和users\n",
    "ga4_result = ga4_df.agg(\n",
    "    count(\"*\").alias(\"pageview\"),\n",
    "    countDistinct(\"user_pseudo_id\").alias(\"all_users\"),\n",
    "    countDistinct(\"user_id\").alias(\"login_users\")\n",
    ")\n",
    "\n",
    "ga4_result.show()\n"
   ]
  },
  {
   "cell_type": "code",
   "execution_count": 0,
   "metadata": {
    "application/vnd.databricks.v1+cell": {
     "cellMetadata": {
      "byteLimit": 2048000,
      "rowLimit": 10000
     },
     "inputWidgets": {},
     "nuid": "cd00564d-7c30-488c-93ea-b52eeb08ace0",
     "showTitle": false,
     "title": ""
    }
   },
   "outputs": [
    {
     "output_type": "stream",
     "name": "stdout",
     "output_type": "stream",
     "text": [
      "+----------+--------+\n|orders_num|   sales|\n+----------+--------+\n|      2789|91556691|\n+----------+--------+\n\n"
     ]
    }
   ],
   "source": [
    "from pyspark.sql.functions import cast, count, sum\n",
    "\n",
    "# 讀取order_july_delta\n",
    "order_df = spark.read.table(\"hive_metastore.default.order_july_delta\")\n",
    "\n",
    "# 轉換sol_price為整數型態且過濾非空或非數值資料\n",
    "order_df = order_df.withColumn(\"sol_price_int\", col(\"sol_price\").cast(\"int\"))\n",
    "order_df = order_df.filter(col(\"sol_price_int\").isNotNull())\n",
    "\n",
    "# 對整個表格進行加總\n",
    "order_result = order_df.agg(\n",
    "    count(\"*\").alias(\"orders_num\"),\n",
    "    sum(\"sol_price_int\").alias(\"sales\")\n",
    ")\n",
    "\n",
    "order_result.show()\n"
   ]
  },
  {
   "cell_type": "code",
   "execution_count": 0,
   "metadata": {
    "application/vnd.databricks.v1+cell": {
     "cellMetadata": {
      "byteLimit": 2048000,
      "rowLimit": 10000
     },
     "inputWidgets": {},
     "nuid": "67c907d9-8a1c-40f1-8831-ea88459b0c3c",
     "showTitle": false,
     "title": ""
    }
   },
   "outputs": [
    {
     "output_type": "stream",
     "name": "stdout",
     "output_type": "stream",
     "text": [
      "+--------------------------+----------------+------------------------+-----------------+-----------------------+----------------------+-------------------+-------------------+-----------+\n|url                       |Overall_Category|Largest_Contentful_Paint|First_Input_Delay|Cumulative_Layout_Shift|First_Contentful_Paint|Time_to_Interactive|Total_Blocking_Time|Speed_Index|\n+--------------------------+----------------+------------------------+-----------------+-----------------------+----------------------+-------------------+-------------------+-----------+\n|https://www.tcloud.gov.tw/|AVERAGE         |4.6 s                   |3                |0.002                  |0.9 s                 |2.4 s              |190 ms             |1.2 s      |\n+--------------------------+----------------+------------------------+-----------------+-----------------------+----------------------+-------------------+-------------------+-----------+\n\n"
     ]
    }
   ],
   "source": [
    "from pyspark.sql.functions import col\n",
    "\n",
    "# 讀取pagespeedinsight_delta表\n",
    "df = spark.read.table(\"hive_metastore.default.pagespeedinsight_delta\")\n",
    "\n",
    "# 從結構型態中提取指定的欄位\n",
    "df_extracted = df.select(\n",
    "    col(\"lighthouseResult.finalUrl\").alias(\"url\"),\n",
    "    col(\"loadingExperience.overall_category\").alias(\"Overall_Category\"),\n",
    "    col(\"lighthouseResult.audits.`largest-contentful-paint`.displayValue\").alias(\"Largest_Contentful_Paint\"),\n",
    "    col(\"loadingExperience.metrics.FIRST_INPUT_DELAY_MS.percentile\").alias(\"First_Input_Delay\"),\n",
    "    col(\"lighthouseResult.audits.`cumulative-layout-shift`.displayValue\").alias(\"Cumulative_Layout_Shift\"),\n",
    "    col(\"lighthouseResult.audits.`first-contentful-paint`.displayValue\").alias(\"First_Contentful_Paint\"),\n",
    "    col(\"lighthouseResult.audits.interactive.displayValue\").alias(\"Time_to_Interactive\"),\n",
    "    col(\"lighthouseResult.audits.`total-blocking-time`.displayValue\").alias(\"Total_Blocking_Time\"),\n",
    "    col(\"lighthouseResult.audits.`speed-index`.displayValue\").alias(\"Speed_Index\")\n",
    ")\n",
    "\n",
    "# 顯示結果\n",
    "df_extracted.show(truncate=False)\n"
   ]
  },
  {
   "cell_type": "code",
   "execution_count": 0,
   "metadata": {
    "application/vnd.databricks.v1+cell": {
     "cellMetadata": {
      "byteLimit": 2048000,
      "rowLimit": 10000
     },
     "inputWidgets": {},
     "nuid": "2183ed9d-9905-45ed-8b76-d1bf196acbd8",
     "showTitle": false,
     "title": ""
    }
   },
   "outputs": [
    {
     "output_type": "stream",
     "name": "stdout",
     "output_type": "stream",
     "text": [
      "+--------------------+----------------------+--------------------------+\n|Homepage_Avg_Ranking|Search_Engine_Exposure|Product_Page_Avg_ClickRate|\n+--------------------+----------------------+--------------------------+\n|57.273132335087034  |423481                |0.007263292466313936      |\n+--------------------+----------------------+--------------------------+\n\n"
     ]
    }
   ],
   "source": [
    "from pyspark.sql.functions import avg, sum, col, when\n",
    "\n",
    "# 讀取searchconsole_july_delta\n",
    "searchconsole_df = spark.read.table(\"hive_metastore.default.searchconsole_july_delta\")\n",
    "\n",
    "# 計算首頁平均排名\n",
    "avg_position = searchconsole_df \\\n",
    "    .filter(col(\"page\") == \"https://www.tcloud.gov.tw/\") \\\n",
    "    .agg(avg(\"position\").alias(\"Homepage_Avg_Ranking\"))\n",
    "\n",
    "# 計算搜尋引擎曝光\n",
    "total_impressions = searchconsole_df.agg(sum(\"impressions\").alias(\"Search_Engine_Exposure\"))\n",
    "\n",
    "# 計算產品頁平均點擊率\n",
    "product_page_click_rate = searchconsole_df \\\n",
    "    .filter(col(\"page\").contains(\"/solution/\")) \\\n",
    "    .agg((sum(\"clicks\") / sum(\"impressions\")).alias(\"Product_Page_Avg_ClickRate\"))\n",
    "\n",
    "# 合併結果為一個row\n",
    "final_result = avg_position.crossJoin(total_impressions).crossJoin(product_page_click_rate) \\\n",
    "    .select(\"Homepage_Avg_Ranking\", \"Search_Engine_Exposure\", \"Product_Page_Avg_ClickRate\")\n",
    "\n",
    "final_result.show(truncate=False)\n"
   ]
  },
  {
   "cell_type": "code",
   "execution_count": 0,
   "metadata": {
    "application/vnd.databricks.v1+cell": {
     "cellMetadata": {
      "byteLimit": 2048000,
      "rowLimit": 10000
     },
     "inputWidgets": {},
     "nuid": "7ba68dc2-5c35-4e01-b6f0-68a2ee868716",
     "showTitle": false,
     "title": ""
    }
   },
   "outputs": [
    {
     "output_type": "stream",
     "name": "stdout",
     "output_type": "stream",
     "text": [
      "+-------+--------+---------+-----------+----------+--------+----------------+-------------------+-----------+--------------------+----------------------+--------------------------+\n|month  |pageview|all_users|login_users|orders_num|sales   |Overall_Category|Time_to_Interactive|Speed_Index|Homepage_Avg_Ranking|Search_Engine_Exposure|Product_Page_Avg_ClickRate|\n+-------+--------+---------+-----------+----------+--------+----------------+-------------------+-----------+--------------------+----------------------+--------------------------+\n|2023-07|524006  |28798    |2841       |2789      |91556691|AVERAGE         |2.4 s              |1.2 s      |57.273132335087034  |423481                |0.007263292466313936      |\n+-------+--------+---------+-----------+----------+--------+----------------+-------------------+-----------+--------------------+----------------------+--------------------------+\n\n"
     ]
    }
   ],
   "source": [
    "from pyspark.sql.functions import lit\n",
    "\n",
    "# 從df_extracted選擇指定的欄位\n",
    "df_extracted_selected = df_extracted.select(\"Overall_Category\", \"Time_to_Interactive\", \"Speed_Index\")\n",
    "\n",
    "# 創建一個包含'2023-07'的month欄位\n",
    "month_df = spark.createDataFrame([(\"2023-07\",)], [\"month\"])\n",
    "\n",
    "# 用crossJoin組合所有的結果\n",
    "merged_df = month_df.crossJoin(ga4_result).crossJoin(order_result).crossJoin(df_extracted_selected).crossJoin(final_result)\n",
    "\n",
    "# 顯示結果\n",
    "merged_df.show(truncate=False)\n"
   ]
  }
 ],
 "metadata": {
  "application/vnd.databricks.v1+notebook": {
   "dashboards": [],
   "language": "python",
   "notebookMetadata": {
    "pythonIndentUnit": 4
   },
   "notebookName": "market data integration",
   "widgets": {}
  }
 },
 "nbformat": 4,
 "nbformat_minor": 0
}
